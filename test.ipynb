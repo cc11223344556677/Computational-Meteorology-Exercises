{
 "cells": [
  {
   "cell_type": "markdown",
   "id": "a38f0db2",
   "metadata": {},
   "source": [
    "Hello!"
   ]
  }
 ],
 "metadata": {
  "language_info": {
   "name": "python"
  }
 },
 "nbformat": 4,
 "nbformat_minor": 5
}
